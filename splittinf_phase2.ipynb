{
 "cells": [
  {
   "cell_type": "code",
   "execution_count": null,
   "id": "4050886c-de8b-48b4-81ce-cff5d003d2b8",
   "metadata": {},
   "outputs": [],
   "source": [
    "#import required libaries"
   ]
  },
  {
   "cell_type": "code",
   "execution_count": 3,
   "id": "f82ddb90-6350-4afd-93a1-1c662b021115",
   "metadata": {},
   "outputs": [],
   "source": [
    "import pandas as pd\n",
    "import numpy as np\n",
    "from sklearn.model_selection import train_test_split\n",
    "from sklearn.preprocessing import StandardScaler\n",
    "from sklearn.linear_model import LinearRegression, Ridge\n",
    "from sklearn.tree import DecisionTreeRegressor\n",
    "from sklearn.ensemble import RandomForestRegressor, GradientBoostingRegressor\n",
    "from sklearn.metrics import mean_absolute_error,mean_squared_error,r2_score"
   ]
  },
  {
   "cell_type": "code",
   "execution_count": null,
   "id": "bd991536-79aa-436e-9b24-51b6bf2e6ee0",
   "metadata": {},
   "outputs": [],
   "source": [
    "#load dataset"
   ]
  },
  {
   "cell_type": "code",
   "execution_count": 7,
   "id": "3ee0a742-f0f8-4627-b78f-f000039386b9",
   "metadata": {},
   "outputs": [],
   "source": [
    "df = pd.read_csv(r\"C:\\Users\\uw\\Downloads\\MAIN ONLINE NEWS POPULARITY.csv\")"
   ]
  },
  {
   "cell_type": "code",
   "execution_count": null,
   "id": "0850a169-cc74-421f-8d3c-642b8415535d",
   "metadata": {},
   "outputs": [],
   "source": [
    "#datapreprocessing and check missinh value"
   ]
  },
  {
   "cell_type": "code",
   "execution_count": 9,
   "id": "9b66bf21-c660-4301-a10f-763624378fcd",
   "metadata": {},
   "outputs": [],
   "source": [
    "df.dropna(inplace=True)"
   ]
  },
  {
   "cell_type": "code",
   "execution_count": null,
   "id": "9b7bdf49-18bc-447c-859b-404fa41f92ea",
   "metadata": {},
   "outputs": [],
   "source": [
    "#define features and target"
   ]
  },
  {
   "cell_type": "code",
   "execution_count": 18,
   "id": "2a042c2f-b6b6-42ac-93b1-6aaf3ad3cc14",
   "metadata": {},
   "outputs": [
    {
     "name": "stdout",
     "output_type": "stream",
     "text": [
      "Index(['url', ' kw_avg_min', ' kw_avg_max', ' kw_max_avg',\n",
      "       ' self_reference_min_shares', ' self_reference_max_shares',\n",
      "       ' self_reference_avg_sharess', ' LDA_02', ' LDA_03',\n",
      "       ' global_subjectivity', ' avg_negative_polarity',\n",
      "       ' max_negative_polarity', ' title_subjectivity',\n",
      "       ' title_sentiment_polarity', ' abs_title_subjectivity',\n",
      "       ' abs_title_sentiment_polarity', ' shares'],\n",
      "      dtype='object')\n"
     ]
    }
   ],
   "source": [
    "print(df.columns)"
   ]
  },
  {
   "cell_type": "code",
   "execution_count": 20,
   "id": "482fe298-2775-4981-9ca8-3d422a7ad319",
   "metadata": {},
   "outputs": [],
   "source": [
    "df.columns = df.columns.str.strip()"
   ]
  },
  {
   "cell_type": "code",
   "execution_count": 24,
   "id": "68aee055-ebeb-4cf6-991b-5afd60e63daf",
   "metadata": {},
   "outputs": [
    {
     "name": "stdout",
     "output_type": "stream",
     "text": [
      "                                                 url  kw_avg_min  kw_avg_max  \\\n",
      "0  http://mashable.com/2013/01/07/amazon-instant-...         0.0         0.0   \n",
      "1  http://mashable.com/2013/01/07/ap-samsung-spon...         0.0         0.0   \n",
      "2  http://mashable.com/2013/01/07/apple-40-billio...         0.0         0.0   \n",
      "3  http://mashable.com/2013/01/07/astronaut-notre...         0.0         0.0   \n",
      "4   http://mashable.com/2013/01/07/att-u-verse-apps/         0.0         0.0   \n",
      "\n",
      "   kw_max_avg  self_reference_min_shares  self_reference_max_shares  \\\n",
      "0         0.0                      496.0                      496.0   \n",
      "1         0.0                        0.0                        0.0   \n",
      "2         0.0                      918.0                      918.0   \n",
      "3         0.0                        0.0                        0.0   \n",
      "4         0.0                      545.0                    16000.0   \n",
      "\n",
      "   self_reference_avg_sharess    lda_02    lda_03  global_subjectivity  \\\n",
      "0                  496.000000  0.040005  0.041263             0.521617   \n",
      "1                    0.000000  0.050096  0.050101             0.341246   \n",
      "2                  918.000000  0.033351  0.033334             0.702222   \n",
      "3                    0.000000  0.494651  0.028905             0.429850   \n",
      "4                 3151.157895  0.028575  0.028572             0.513502   \n",
      "\n",
      "   avg_negative_polarity  max_negative_polarity  title_subjectivity  \\\n",
      "0              -0.350000              -0.200000            0.500000   \n",
      "1              -0.118750              -0.100000            0.000000   \n",
      "2              -0.466667              -0.133333            0.000000   \n",
      "3              -0.369697              -0.166667            0.000000   \n",
      "4              -0.220192              -0.050000            0.454545   \n",
      "\n",
      "   title_sentiment_polarity  abs_title_subjectivity  \\\n",
      "0                 -0.187500                0.000000   \n",
      "1                  0.000000                0.500000   \n",
      "2                  0.000000                0.500000   \n",
      "3                  0.000000                0.500000   \n",
      "4                  0.136364                0.045455   \n",
      "\n",
      "   abs_title_sentiment_polarity  shares  \n",
      "0                      0.187500     593  \n",
      "1                      0.000000     711  \n",
      "2                      0.000000    1500  \n",
      "3                      0.000000    1200  \n",
      "4                      0.136364     505  \n"
     ]
    }
   ],
   "source": [
    "print(df.head())"
   ]
  },
  {
   "cell_type": "code",
   "execution_count": 26,
   "id": "4591083b-52d5-464f-a13b-89d93aebd1bb",
   "metadata": {},
   "outputs": [],
   "source": [
    "X = df.drop(columns=['shares'])  # 'shares' is the target variable\n",
    "Y = df['shares']"
   ]
  },
  {
   "cell_type": "code",
   "execution_count": null,
   "id": "e4373d52-9ad1-4c26-8383-c1d72b2fe1ad",
   "metadata": {},
   "outputs": [],
   "source": [
    "#splitting the dataset"
   ]
  },
  {
   "cell_type": "code",
   "execution_count": 28,
   "id": "2d2cb1a6-e624-4687-9148-4d29fbdcf658",
   "metadata": {},
   "outputs": [],
   "source": [
    "X_train, X_test, Y_train, Y_test = train_test_split(X, Y, test_size=0.2, random_state=42)"
   ]
  },
  {
   "cell_type": "code",
   "execution_count": null,
   "id": "78edd984-0dd4-413d-8e26-404f75b71a23",
   "metadata": {},
   "outputs": [],
   "source": [
    "#feature scaling"
   ]
  },
  {
   "cell_type": "code",
   "execution_count": 32,
   "id": "9a7ff6c9-462a-40e6-899b-35b5ae5dba45",
   "metadata": {},
   "outputs": [
    {
     "name": "stdout",
     "output_type": "stream",
     "text": [
      "url                              object\n",
      "kw_avg_min                      float64\n",
      "kw_avg_max                      float64\n",
      "kw_max_avg                      float64\n",
      "self_reference_min_shares       float64\n",
      "self_reference_max_shares       float64\n",
      "self_reference_avg_sharess      float64\n",
      "lda_02                          float64\n",
      "lda_03                          float64\n",
      "global_subjectivity             float64\n",
      "avg_negative_polarity           float64\n",
      "max_negative_polarity           float64\n",
      "title_subjectivity              float64\n",
      "title_sentiment_polarity        float64\n",
      "abs_title_subjectivity          float64\n",
      "abs_title_sentiment_polarity    float64\n",
      "dtype: object\n"
     ]
    }
   ],
   "source": [
    "print(X_train.dtypes)"
   ]
  },
  {
   "cell_type": "code",
   "execution_count": 34,
   "id": "4544ac26-e3d6-4cfb-9d4c-55e528505cd4",
   "metadata": {},
   "outputs": [],
   "source": [
    "X = pd.get_dummies(X, drop_first=True)"
   ]
  },
  {
   "cell_type": "code",
   "execution_count": 42,
   "id": "af6d3c5b-42d3-4ef7-8af4-24791af91656",
   "metadata": {},
   "outputs": [],
   "source": [
    "X_train = X_train.drop(columns=['url'])\n",
    "X_test = X_test.drop(columns=['url'])"
   ]
  },
  {
   "cell_type": "code",
   "execution_count": 44,
   "id": "1b330b91-93f4-4d5f-99cc-c6e231fbace0",
   "metadata": {},
   "outputs": [
    {
     "name": "stdout",
     "output_type": "stream",
     "text": [
      "kw_avg_min                      float64\n",
      "kw_avg_max                      float64\n",
      "kw_max_avg                      float64\n",
      "self_reference_min_shares       float64\n",
      "self_reference_max_shares       float64\n",
      "self_reference_avg_sharess      float64\n",
      "lda_02                          float64\n",
      "lda_03                          float64\n",
      "global_subjectivity             float64\n",
      "avg_negative_polarity           float64\n",
      "max_negative_polarity           float64\n",
      "title_subjectivity              float64\n",
      "title_sentiment_polarity        float64\n",
      "abs_title_subjectivity          float64\n",
      "abs_title_sentiment_polarity    float64\n",
      "dtype: object\n"
     ]
    }
   ],
   "source": [
    "print(X_train.dtypes)"
   ]
  },
  {
   "cell_type": "code",
   "execution_count": 46,
   "id": "0963cf9a-2fea-4ce0-86b2-6714302dbb49",
   "metadata": {},
   "outputs": [],
   "source": [
    "X_train = X_train.apply(pd.to_numeric, errors='coerce')\n",
    "X_test = X_test.apply(pd.to_numeric, errors='coerce')"
   ]
  },
  {
   "cell_type": "code",
   "execution_count": 48,
   "id": "68836c53-77ea-44b9-906e-2cb696f01da6",
   "metadata": {},
   "outputs": [
    {
     "name": "stdout",
     "output_type": "stream",
     "text": [
      "0\n"
     ]
    }
   ],
   "source": [
    "print(np.isinf(X_train).values.sum())  # Ensure it works"
   ]
  },
  {
   "cell_type": "code",
   "execution_count": 50,
   "id": "624cc0bb-7183-46a6-af3c-99532f88c923",
   "metadata": {},
   "outputs": [],
   "source": [
    "scaler = StandardScaler()\n",
    "X_train_scaled = scaler.fit_transform(X_train)\n",
    "X_test_scaled = scaler.transform(X_test)"
   ]
  },
  {
   "cell_type": "code",
   "execution_count": null,
   "id": "dc88bda8-441a-4431-bcf3-3287f65f84b3",
   "metadata": {},
   "outputs": [],
   "source": []
  },
  {
   "cell_type": "code",
   "execution_count": null,
   "id": "64a6b490-2f50-4af6-9d0a-0880cfd072b1",
   "metadata": {},
   "outputs": [],
   "source": [
    "#model selection"
   ]
  },
  {
   "cell_type": "code",
   "execution_count": 56,
   "id": "c62e5e72-6931-4872-a980-e1d79bd8f312",
   "metadata": {},
   "outputs": [],
   "source": [
    "models = {\n",
    "    'Linear Regression': LinearRegression(),\n",
    "    'Ridge Regression': Ridge(),\n",
    "    'Decision Tree': DecisionTreeRegressor(),\n",
    "    'Random Forest': RandomForestRegressor(),\n",
    "    'Gradient Boosting': GradientBoostingRegressor()}"
   ]
  },
  {
   "cell_type": "code",
   "execution_count": null,
   "id": "97aad13e-8bc0-4c4c-9ed2-196439fb8997",
   "metadata": {},
   "outputs": [],
   "source": [
    "#model training and evaluation"
   ]
  },
  {
   "cell_type": "code",
   "execution_count": 62,
   "id": "b985df22-47db-4fc5-9976-af8342cb01f9",
   "metadata": {},
   "outputs": [],
   "source": [
    "results = {}\n",
    "for name, model in models.items():\n",
    "    model.fit(X_train_scaled, Y_train)\n",
    "    Y_pred = model.predict(X_test_scaled)\n",
    "    \n",
    "    results[name] = {\n",
    "        'MAE': mean_absolute_error(Y_test, Y_pred),\n",
    "        'MSE': mean_squared_error(Y_test, Y_pred),\n",
    "        'R2 Score': r2_score(Y_test,Y_pred)}"
   ]
  },
  {
   "cell_type": "code",
   "execution_count": null,
   "id": "c3d694bd-b0d9-4947-b921-6be60604763c",
   "metadata": {},
   "outputs": [],
   "source": [
    "#display result"
   ]
  },
  {
   "cell_type": "code",
   "execution_count": 63,
   "id": "a62a1874-f6f7-425b-8d10-5d362f0f3bd8",
   "metadata": {},
   "outputs": [
    {
     "name": "stdout",
     "output_type": "stream",
     "text": [
      "                           MAE           MSE  R2 Score\n",
      "Linear Regression  3082.517605  1.184849e+08  0.018123\n",
      "Ridge Regression   3082.516118  1.184849e+08  0.018123\n",
      "Decision Tree      4102.542944  2.500289e+08 -1.071974\n",
      "Random Forest      3390.071270  1.244073e+08 -0.030955\n",
      "Gradient Boosting  3060.480997  1.244072e+08 -0.030955\n"
     ]
    }
   ],
   "source": [
    "results_df = pd.DataFrame(results).T\n",
    "print(results_df)"
   ]
  },
  {
   "cell_type": "code",
   "execution_count": null,
   "id": "74cc447c-3678-46cd-a441-bb978af845bf",
   "metadata": {},
   "outputs": [],
   "source": []
  }
 ],
 "metadata": {
  "kernelspec": {
   "display_name": "Python 3 (ipykernel)",
   "language": "python",
   "name": "python3"
  },
  "language_info": {
   "codemirror_mode": {
    "name": "ipython",
    "version": 3
   },
   "file_extension": ".py",
   "mimetype": "text/x-python",
   "name": "python",
   "nbconvert_exporter": "python",
   "pygments_lexer": "ipython3",
   "version": "3.12.4"
  }
 },
 "nbformat": 4,
 "nbformat_minor": 5
}
